{
 "cells": [
  {
   "cell_type": "code",
   "execution_count": 1,
   "id": "d626c144",
   "metadata": {},
   "outputs": [],
   "source": [
    "# Se le pide al ususario que rellene los espacios de kilogramos y metros con su respectiva informacion.\n",
    "kg = 70\n",
    "m = 1.90\n",
    "IMC = kg / m ** 2"
   ]
  },
  {
   "cell_type": "code",
   "execution_count": 4,
   "id": "00b74aef",
   "metadata": {},
   "outputs": [
    {
     "data": {
      "text/plain": [
       "19.390581717451525"
      ]
     },
     "execution_count": 4,
     "metadata": {},
     "output_type": "execute_result"
    }
   ],
   "source": [
    "IMC"
   ]
  },
  {
   "cell_type": "code",
   "execution_count": 5,
   "id": "faf5d9a9",
   "metadata": {},
   "outputs": [
    {
     "data": {
      "text/plain": [
       "19.39"
      ]
     },
     "execution_count": 5,
     "metadata": {},
     "output_type": "execute_result"
    }
   ],
   "source": [
    "round(IMC, 2)"
   ]
  },
  {
   "cell_type": "code",
   "execution_count": null,
   "id": "ceb966d7",
   "metadata": {},
   "outputs": [],
   "source": []
  }
 ],
 "metadata": {
  "kernelspec": {
   "display_name": "Python 3 (ipykernel)",
   "language": "python",
   "name": "python3"
  },
  "language_info": {
   "codemirror_mode": {
    "name": "ipython",
    "version": 3
   },
   "file_extension": ".py",
   "mimetype": "text/x-python",
   "name": "python",
   "nbconvert_exporter": "python",
   "pygments_lexer": "ipython3",
   "version": "3.9.12"
  }
 },
 "nbformat": 4,
 "nbformat_minor": 5
}
