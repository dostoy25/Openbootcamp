{
 "cells": [
  {
   "cell_type": "code",
   "execution_count": 2,
   "id": "05d52acc",
   "metadata": {},
   "outputs": [
    {
     "name": "stdout",
     "output_type": "stream",
     "text": [
      "Hola soy Santiago\n",
      "Estoy empezando en el curso de python\n",
      "Espero aprender mucho\n"
     ]
    }
   ],
   "source": [
    "x = 'Hola soy Santiago'\n",
    "y = 'Estoy empezando en el curso de python'\n",
    "z = 'Espero aprender mucho'\n",
    "print('Hola soy Santiago')\n",
    "print('Estoy empezando en el curso de python')\n",
    "print('Espero aprender mucho')"
   ]
  },
  {
   "cell_type": "code",
   "execution_count": 4,
   "id": "d3f53d5b",
   "metadata": {},
   "outputs": [
    {
     "data": {
      "text/plain": [
       "('Hola soy Santiago',\n",
       " 'Estoy empezando en el curso de python',\n",
       " 'Espero aprender mucho')"
      ]
     },
     "execution_count": 4,
     "metadata": {},
     "output_type": "execute_result"
    }
   ],
   "source": [
    "x, y, z"
   ]
  },
  {
   "cell_type": "code",
   "execution_count": null,
   "id": "37fca26e",
   "metadata": {},
   "outputs": [],
   "source": []
  }
 ],
 "metadata": {
  "kernelspec": {
   "display_name": "Python 3 (ipykernel)",
   "language": "python",
   "name": "python3"
  },
  "language_info": {
   "codemirror_mode": {
    "name": "ipython",
    "version": 3
   },
   "file_extension": ".py",
   "mimetype": "text/x-python",
   "name": "python",
   "nbconvert_exporter": "python",
   "pygments_lexer": "ipython3",
   "version": "3.9.12"
  }
 },
 "nbformat": 4,
 "nbformat_minor": 5
}
